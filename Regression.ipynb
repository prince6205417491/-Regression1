{
  "nbformat": 4,
  "nbformat_minor": 0,
  "metadata": {
    "colab": {
      "provenance": []
    },
    "kernelspec": {
      "name": "python3",
      "display_name": "Python 3"
    },
    "language_info": {
      "name": "python"
    }
  },
  "cells": [
    {
      "cell_type": "markdown",
      "source": [
        "**Question 1:  What is Simple Linear Regression? **"
      ],
      "metadata": {
        "id": "yGGrzxOqT0vQ"
      }
    },
    {
      "cell_type": "markdown",
      "source": [
        "**Ans:-**Simple Linear Regression is a statistical method used to model the relationship between two variables by fitting a straight line to the observed data.\n",
        "\n",
        "Key Features:\n",
        "i.**One independent variable (X)**: The predictor or input.\n",
        "ii.**One dependent variable (Y)**: The outcome or response.\n",
        "\n",
        "**Objective:**\n",
        "To find the best-fitting straight line (called the regression line) that predicts the value of the dependent variable (Y) based on the independent variable (X).\n",
        "\n",
        "**Equation of the Line:**\n",
        "Y=β0​+β1​X+ε\n",
        "\n",
        "𝑌: Dependent variable (what you want to predict)\n",
        "\n",
        "𝑋: Independent variable (input feature)\n",
        "\n",
        "β0: Intercept (value of Y when X = 0)\n",
        "\n",
        "β1: Slope (how much Y changes for a one-unit change in X)\n",
        "\n",
        "ε: Error term (difference between observed and predicted values)"
      ],
      "metadata": {
        "id": "8P8rmFYfT3nU"
      }
    },
    {
      "cell_type": "markdown",
      "source": [
        "**Question 2: What are the key assumptions of Simple Linear Regression?**"
      ],
      "metadata": {
        "id": "CGTdxTwDVWe9"
      }
    },
    {
      "cell_type": "markdown",
      "source": [
        "**Ans:-**Simple Linear Regression relies on several key assumptions to ensure that the model produces reliable, unbiased, and accurate predictions.\n",
        "\n",
        "**1. Linearity**\n",
        "\n",
        "Assumption: The relationship between the independent variable (X) and the dependent variable (Y) is linear.\n",
        "\n",
        "Implication: The change in Y is proportional to the change in X.\n",
        "\n",
        "Check: Scatter plot of X vs Y should show a roughly straight-line pattern.\n",
        "\n",
        "**2. Independence of Errors**\n",
        "\n",
        "Assumption: The residuals (errors) are independent of each other.\n",
        "\n",
        "Implication: The value of one error term should not predict the value of another.\n",
        "\n",
        "Check: Particularly important in time series data; can be tested using the Durbin-Watson test.\n",
        "\n",
        "**3. Homoscedasticity (Constant Variance of Errors)**\n",
        "\n",
        "Assumption: The residuals have constant variance at all levels of X.\n",
        "\n",
        "Implication: The spread of errors should be roughly the same across all values of X.\n",
        "\n",
        "Check: Plot residuals vs. predicted values—look for a constant spread (not a funnel shape).\n",
        "\n",
        "**4. Normality of Errors**\n",
        "\n",
        "Assumption: The residuals (errors) are normally distributed.\n",
        "\n",
        "Implication: This is especially important for hypothesis testing and confidence intervals.\n",
        "\n",
        "Check: Histogram or Q-Q plot of residuals.\n",
        "\n",
        "**5. No Perfect Multicollinearity**\n",
        "\n",
        "Note: This applies to multiple regression, not simple regression (since there’s only one X variable).\n",
        "\n",
        "So, this isn't relevant for simple linear regression."
      ],
      "metadata": {
        "id": "66cC18uaVicq"
      }
    },
    {
      "cell_type": "markdown",
      "source": [
        "**Question 3: What is heteroscedasticity, and why is it important to address in regression models? **"
      ],
      "metadata": {
        "id": "2jIHv5fKXBd7"
      }
    },
    {
      "cell_type": "markdown",
      "source": [
        "**Ans:-**Heteroscedasticity refers to a condition in a regression model where the variance of the residuals (errors) is not constant across all levels of the independent variable(s).\n",
        "\n",
        "**In simpler terms:**\n",
        "\n",
        "As the value of the predictor variable(s) changes, the spread or \"scatter\" of the errors increases or decreases, instead of staying roughly the same.\n",
        "\n",
        "**Heteroscedasticity violates a key assumption of linear regression:**\n",
        "\n",
        "That the residuals have constant variance (this is called homoscedasticity)."
      ],
      "metadata": {
        "id": "VzUNLTp0XJqS"
      }
    },
    {
      "cell_type": "markdown",
      "source": [
        "**Question 4: What is Multiple Linear Regression? **"
      ],
      "metadata": {
        "id": "662vhoFbXr14"
      }
    },
    {
      "cell_type": "markdown",
      "source": [
        "**Ans:-**Multiple Linear Regression (MLR) is a statistical technique used to model the relationship between one dependent variable and two or more independent variables.\n",
        "\n",
        "In contrast to Simple Linear Regression (which uses only one independent variable), MLR allows us to understand and predict a dependent variable based on multiple inputs.\n",
        "\n",
        "**Mathematical Equation:**\n",
        "Y: Dependent variable (what you want to predict)\n",
        "\n",
        "𝑋1,𝑋2,...,𝑋𝑛: Independent variables (predictors)\n",
        "\n",
        "\n",
        "β0: Intercept (value of Y when all Xs = 0)\n",
        "\n",
        "𝛽1,𝛽2,...,𝛽𝑛: Coefficients (effect of each X on Y)\n",
        "\n",
        "ε: Error term (difference between actual and predicted Y)"
      ],
      "metadata": {
        "id": "nQtTb9qqX1hT"
      }
    },
    {
      "cell_type": "markdown",
      "source": [
        "**Question 5: What is polynomial regression, and how does it differ from linear\n",
        "regression?**"
      ],
      "metadata": {
        "id": "CVGBrVNQZflF"
      }
    },
    {
      "cell_type": "markdown",
      "source": [
        "**Ans:-**Polynomial Regression is a type of regression analysis where the relationship between the independent variable (X) and the dependent variable (Y) is modeled as an nth-degree polynomial.\n",
        "\n",
        "It is an extension of Linear Regression that allows for curved relationships.\n",
        "\n",
        "**Polynomial Regression Equation:**\n",
        "\n",
        "Y=β0​+β1​X+β2​X2+β3​X3+⋯+βn​Xn+ε\n",
        "\n",
        "Where:\n",
        "\n",
        "X2,X3,...,Xn: Polynomial (non-linear) terms\n",
        "\n",
        "𝛽0,𝛽1,...,𝛽𝑛: Coefficients\n",
        "\n",
        "ε: Error term"
      ],
      "metadata": {
        "id": "egXbnA8jZyVM"
      }
    },
    {
      "cell_type": "markdown",
      "source": [
        "**Question 6:  Implement a Python program to fit a Simple Linear Regression model to the following sample data:\n",
        "● X = [1, 2, 3, 4, 5]\n",
        "● Y = [2.1, 4.3, 6.1, 7.9, 10.2]\n",
        "Plot the regression line over the data points.**"
      ],
      "metadata": {
        "id": "BmJvY2K4bMhw"
      }
    },
    {
      "cell_type": "code",
      "source": [
        "import numpy as np\n",
        "import matplotlib.pyplot as plt\n",
        "from sklearn.linear_model import LinearRegression\n",
        "\n",
        "# Step 1: Prepare the data\n",
        "X = np.array([1, 2, 3, 4, 5]).reshape(-1, 1)  # Reshape for sklearn\n",
        "Y = np.array([2.1, 4.3, 6.1, 7.9, 10.2])\n",
        "\n",
        "# Step 2: Create and fit the model\n",
        "model = LinearRegression()\n",
        "model.fit(X, Y)\n",
        "\n",
        "# Step 3: Predict values\n",
        "Y_pred = model.predict(X)\n",
        "\n",
        "# Step 4: Print the coefficients\n",
        "print(f\"Intercept (β₀): {model.intercept_:.2f}\")\n",
        "print(f\"Slope (β₁): {model.coef_[0]:.2f}\")\n",
        "\n",
        "# Step 5: Plot the data and regression line\n",
        "plt.scatter(X, Y, color='blue', label='Data Points')\n",
        "plt.plot(X, Y_pred, color='red', label='Regression Line')\n",
        "plt.title('Simple Linear Regression')\n",
        "plt.xlabel('X')\n",
        "plt.ylabel('Y')\n",
        "plt.legend()\n",
        "plt.grid(True)\n",
        "plt.show()"
      ],
      "metadata": {
        "colab": {
          "base_uri": "https://localhost:8080/",
          "height": 508
        },
        "id": "toocyilKbxw_",
        "outputId": "78482b4d-ea9d-4b6a-e3a0-e5e42b3c5054"
      },
      "execution_count": 1,
      "outputs": [
        {
          "output_type": "stream",
          "name": "stdout",
          "text": [
            "Intercept (β₀): 0.18\n",
            "Slope (β₁): 1.98\n"
          ]
        },
        {
          "output_type": "display_data",
          "data": {
            "text/plain": [
              "<Figure size 640x480 with 1 Axes>"
            ],
            "image/png": "[encoded data removed]"
          },
          "metadata": {}
        }
      ]
    },
    {
      "cell_type": "markdown",
      "source": [
        "**Question 7: Fit a Multiple Linear Regression model on this sample data:\n",
        "● Area = [1200, 1500, 1800, 2000]\n",
        "● Rooms = [2, 3, 3, 4]\n",
        "● Price = [250000, 300000, 320000, 370000]**"
      ],
      "metadata": {
        "id": "rfQGB7Kzb7CG"
      }
    },
    {
      "cell_type": "code",
      "source": [
        "import numpy as np\n",
        "from sklearn.linear_model import LinearRegression\n",
        "\n",
        "# Step 1: Prepare the data\n",
        "area = [1200, 1500, 1800, 2000]\n",
        "rooms = [2, 3, 3, 4]\n",
        "price = [250000, 300000, 320000, 370000]\n",
        "\n",
        "# Combine Area and Rooms into a 2D array for X\n",
        "X = np.column_stack((area, rooms))  # Shape: (4, 2)\n",
        "Y = np.array(price)\n",
        "\n",
        "# Step 2: Fit the model\n",
        "model = LinearRegression()\n",
        "model.fit(X, Y)\n",
        "\n",
        "# Step 3: Output the coefficients\n",
        "print(f\"Intercept (β₀): {model.intercept_:.2f}\")\n",
        "print(f\"Coefficient for Area (β₁): {model.coef_[0]:.2f}\")\n",
        "print(f\"Coefficient for Rooms (β₂): {model.coef_[1]:.2f}\")\n",
        "\n",
        "# Step 4: Predict on the training data\n",
        "predictions = model.predict(X)\n",
        "print(\"\\nPredicted Prices:\", predictions)\n"
      ],
      "metadata": {
        "colab": {
          "base_uri": "https://localhost:8080/"
        },
        "id": "-JS_I8fqb4zx",
        "outputId": "53f5071b-b80d-46bb-b166-6c846b9b7166"
      },
      "execution_count": 2,
      "outputs": [
        {
          "output_type": "stream",
          "name": "stdout",
          "text": [
            "Intercept (β₀): 103157.89\n",
            "Coefficient for Area (β₁): 63.16\n",
            "Coefficient for Rooms (β₂): 34736.84\n",
            "\n",
            "Predicted Prices: [248421.05263158 302105.26315789 321052.63157895 368421.05263158]\n"
          ]
        }
      ]
    },
    {
      "cell_type": "markdown",
      "source": [
        "**Question 8:  Implement polynomial regression on the following data:\n",
        "● X = [1, 2, 3, 4, 5]\n",
        "● Y = [2.2, 4.8, 7.5, 11.2, 14.7]\n",
        "Fit a 2nd-degree polynomial and plot the resulting curve.**"
      ],
      "metadata": {
        "id": "bA325KCGcymi"
      }
    },
    {
      "cell_type": "code",
      "source": [
        "import numpy as np\n",
        "import matplotlib.pyplot as plt\n",
        "from sklearn.linear_model import LinearRegression\n",
        "from sklearn.preprocessing import PolynomialFeatures\n",
        "\n",
        "# Step 1: Prepare the data\n",
        "X = np.array([1, 2, 3, 4, 5]).reshape(-1, 1)\n",
        "Y = np.array([2.2, 4.8, 7.5, 11.2, 14.7])\n",
        "\n",
        "# Step 2: Create polynomial features (degree = 2)\n",
        "poly = PolynomialFeatures(degree=2)\n",
        "X_poly = poly.fit_transform(X)\n",
        "\n",
        "# Step 3: Fit the model\n",
        "model = LinearRegression()\n",
        "model.fit(X_poly, Y)\n",
        "\n",
        "# Step 4: Predict Y values for plotting\n",
        "X_range = np.linspace(1, 5, 100).reshape(-1, 1)\n",
        "X_range_poly = poly.transform(X_range)\n",
        "Y_pred = model.predict(X_range_poly)\n",
        "\n",
        "# Step 5: Print coefficients\n",
        "print(f\"Intercept (β₀): {model.intercept_:.2f}\")\n",
        "print(f\"Coefficients (β₁ to β₂): {model.coef_[1]:.2f}, {model.coef_[2]:.2f}\")\n",
        "\n",
        "# Step 6: Plot the curve and data points\n",
        "plt.scatter(X, Y, color='blue', label='Data Points')\n",
        "plt.plot(X_range, Y_pred, color='red', label='2nd-Degree Polynomial Fit')\n",
        "plt.title('Polynomial Regression (Degree 2)')\n",
        "plt.xlabel('X')\n",
        "plt.ylabel('Y')\n",
        "plt.legend()\n",
        "plt.grid(True)\n",
        "plt.show()"
      ],
      "metadata": {
        "colab": {
          "base_uri": "https://localhost:8080/",
          "height": 508
        },
        "id": "0fou_Cxdc_lZ",
        "outputId": "395db71d-911a-46cb-d89e-e78ca4e65544"
      },
      "execution_count": 3,
      "outputs": [
        {
          "output_type": "stream",
          "name": "stdout",
          "text": [
            "Intercept (β₀): 0.06\n",
            "Coefficients (β₁ to β₂): 1.94, 0.20\n"
          ]
        },
        {
          "output_type": "display_data",
          "data": {
            "text/plain": [
              "<Figure size 640x480 with 1 Axes>"
            ],
            "image/png": "[encoded data removed]"
          },
          "metadata": {}
        }
      ]
    },
    {
      "cell_type": "markdown",
      "source": [
        "**Question 9: Create a residuals plot for a regression model trained on this data:\n",
        "● X = [10, 20, 30, 40, 50]\n",
        "● Y = [15, 35, 40, 50, 65]\n",
        "Assess heteroscedasticity by examining the spread of residuals.**"
      ],
      "metadata": {
        "id": "3F1iJJwIdRBE"
      }
    },
    {
      "cell_type": "code",
      "source": [
        "import numpy as np\n",
        "import matplotlib.pyplot as plt\n",
        "from sklearn.linear_model import LinearRegression\n",
        "\n",
        "# Step 1: Define the data\n",
        "X = np.array([10, 20, 30, 40, 50]).reshape(-1, 1)\n",
        "Y = np.array([15, 35, 40, 50, 65])\n",
        "\n",
        "# Step 2: Fit the model\n",
        "model = LinearRegression()\n",
        "model.fit(X, Y)\n",
        "\n",
        "# Step 3: Predict and calculate residuals\n",
        "Y_pred = model.predict(X)\n",
        "residuals = Y - Y_pred\n",
        "\n",
        "# Step 4: Plot residuals vs predicted values\n",
        "plt.scatter(Y_pred, residuals, color='purple', marker='o')\n",
        "plt.axhline(y=0, color='black', linestyle='--')\n",
        "plt.title('Residuals Plot')\n",
        "plt.xlabel('Predicted Values')\n",
        "plt.ylabel('Residuals (Y - Y_pred)')\n",
        "plt.grid(True)\n",
        "plt.show()\n",
        "\n",
        "# Step 5: Print residuals\n",
        "print(\"Residuals:\", residuals)"
      ],
      "metadata": {
        "colab": {
          "base_uri": "https://localhost:8080/",
          "height": 490
        },
        "id": "7TaDH4pLdPPD",
        "outputId": "d4420b8d-3884-4aa9-a220-e31e17e037d0"
      },
      "execution_count": 4,
      "outputs": [
        {
          "output_type": "display_data",
          "data": {
            "text/plain": [
              "<Figure size 640x480 with 1 Axes>"
            ],
            "image/png": "[encoded data removed]"
          },
          "metadata": {}
        },
        {
          "output_type": "stream",
          "name": "stdout",
          "text": [
            "Residuals: [-3.   5.5 -1.  -2.5  1. ]\n"
          ]
        }
      ]
    },
    {
      "cell_type": "markdown",
      "source": [
        "**Question 10: Imagine you are a data scientist working for a real estate company. You\n",
        "need to predict house prices using features like area, number of rooms, and location.\n",
        "However, you detect heteroscedasticity and multicollinearity in your regression\n",
        "model. Explain the steps you would take to address these issues and ensure a robust\n",
        "model.**"
      ],
      "metadata": {
        "id": "1xraYcZrdwyC"
      }
    },
    {
      "cell_type": "markdown",
      "source": [
        "**Ans:-**Scenario:\n",
        "\n",
        "Predicting house prices with features: area, number of rooms, and location.\n",
        "\n",
        "Detected problems: heteroscedasticity and multicollinearity.\n",
        "\n",
        "Step 1: Addressing Heteroscedasticity\n",
        "\n",
        "Why: Heteroscedasticity means the error variance changes with predictors, which leads to unreliable inference (wrong p-values, confidence intervals).\n",
        "\n",
        "What to do:\n",
        "\n",
        "Transform the target variable: Use log(price) or another transformation to stabilize variance.\n",
        "\n",
        "Use robust standard errors: Adjust standard errors to be heteroscedasticity-consistent (e.g., White’s robust SEs).\n",
        "\n",
        "Weighted Least Squares (WLS): Give less weight to observations with higher variance.\n",
        "\n",
        "Check residual plots after corrections to confirm heteroscedasticity is reduced.\n",
        "\n",
        "Step 2: Addressing Multicollinearity\n",
        "\n",
        "Why: Multicollinearity occurs when predictors are highly correlated, causing unstable coefficient estimates and inflated standard errors.\n",
        "\n",
        "What to do:\n",
        "\n",
        "Detect multicollinearity: Calculate Variance Inflation Factor (VIF) for each predictor. VIF > 5 or 10 signals a problem.\n",
        "\n",
        "Remove or combine variables: Drop or merge highly correlated features.\n",
        "\n",
        "Dimensionality reduction: Use PCA to create uncorrelated components.\n",
        "\n",
        "Use regularization: Apply Ridge or Lasso regression to reduce coefficient variance caused by multicollinearity.\n",
        "\n",
        "Step 3: Additional Measures\n",
        "\n",
        "Feature Engineering:\n",
        "Properly encode categorical variables like location (one-hot, target encoding) and consider interactions if relevant.\n",
        "\n",
        "Model Validation:\n",
        "Use cross-validation to assess generalization and monitor metrics like RMSE,\n",
        "𝑅2.\n",
        "\n",
        "Iterate:\n",
        "Continuously check diagnostics and refine the model."
      ],
      "metadata": {
        "id": "Ijh_NOYneW3S"
      }
    }
  ]
}